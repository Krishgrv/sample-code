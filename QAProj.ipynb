{
  "nbformat": 4,
  "nbformat_minor": 0,
  "metadata": {
    "colab": {
      "name": "QAProj.ipynb",
      "provenance": [],
      "collapsed_sections": [],
      "include_colab_link": true
    },
    "kernelspec": {
      "name": "python3",
      "display_name": "Python 3"
    }
  },
  "cells": [
    {
      "cell_type": "markdown",
      "metadata": {
        "id": "view-in-github",
        "colab_type": "text"
      },
      "source": [
        "<a href=\"https://colab.research.google.com/github/Krishgrv/sample-code/blob/master/QAProj.ipynb\" target=\"_parent\"><img src=\"https://colab.research.google.com/assets/colab-badge.svg\" alt=\"Open In Colab\"/></a>"
      ]
    },
    {
      "cell_type": "code",
      "metadata": {
        "id": "OIr7qmEnKrNi",
        "colab_type": "code",
        "colab": {}
      },
      "source": [
        "!pip install allennlp\n"
      ],
      "execution_count": 0,
      "outputs": []
    },
    {
      "cell_type": "code",
      "metadata": {
        "id": "RnvESdKoLyy6",
        "colab_type": "code",
        "colab": {}
      },
      "source": [
        "!echo \"Zebras are several species of African equids (horse family) united by their distinctive black and white stripes. Their stripes come in different patterns, unique to each individual. They are generally social animals that live in small harems to large herds. Unlike their closest relatives, horses and donkeys, zebras have never been truly domesticated. There are three species of zebras: the plains zebra, the Grévy's zebra and the mountain zebra. The plains zebra and the mountain zebra belong to the subgenus Hippotigris, but Grévy's zebra is the sole species of subgenus Dolichohippus. The latter resembles an ass, to which it is closely related, while the former two are more horse-like. All three belong to the genus Equus, along with other living equids. The unique stripes of zebras make them one of the animals most familiar to people. They occur in a variety of habitats, such as grasslands, savannas, woodlands, thorny scrublands, mountains, and coastal hills. However, various anthropogenic factors have had a severe impact on zebra populations, in particular hunting for skins and habitat destruction. Grévy's zebra and the mountain zebra are endangered. While plains zebras are much more plentiful, one subspecies - the Quagga - became extinct in the late 19th century. Though there is currently a plan, called the Quagga Project, that aims to breed zebras that are phenotypically similar to the Quagga, in a process called breeding back.\" > /tmp/sample1\n",
        "!echo \"Which Zebras are endangered?\" >> /tmp/sample1\n",
        "!echo \"What is the aim of the Quagga Project?\" >> /tmp/sample1\n",
        "!echo \"Which animals are some of their closest relatives?\" >> /tmp/sample1\n",
        "!echo \"Which are the three species of zebras?\" >> /tmp/sample1\n",
        "!echo \"Which subgenus do the plains zebra and the mountain zebra belong to?\" >> /tmp/sample1\n",
        "!echo \"subgenus Hippotigris; the plains zebra, the Grévy's zebra and the mountain zebra;horses and donkeys;aims to breed zebras that are phenotypically similar to the quagga; Grévy's zebra and the mountain zebra\" >> /tmp/sample1"
      ],
      "execution_count": 0,
      "outputs": []
    },
    {
      "cell_type": "code",
      "metadata": {
        "id": "R9_6_AnGAVmn",
        "colab_type": "code",
        "colab": {}
      },
      "source": [
        "import re\n",
        "import sys\n",
        "from allennlp.predictors.predictor import Predictor\n",
        "from difflib import get_close_matches\n",
        "\n",
        "def ReadInputFromFile(filepath):\n",
        "   print (\"Reading input from file...\")\n",
        "   with open(filepath) as fp:\n",
        "        global inputText\n",
        "        global questions\n",
        "        global answers\n",
        "        global lqns\n",
        "        global lans\n",
        "\n",
        "        line = fp.readline()\n",
        "        cnt = 1\n",
        "        while line:\n",
        "             #print(\"Line {}: {}\".format(cnt, line.strip()))\n",
        "             if (cnt == 1):\n",
        "                inputText = line\n",
        "             if (cnt >=2 and cnt <= 6):\n",
        "                questions += line.rstrip('\\r\\n')\n",
        "             if (cnt > 6):\n",
        "                answers += line\n",
        "             line = fp.readline()\n",
        "             cnt += 1\n",
        "\n",
        "        lqns = questions.split('?')\n",
        "        lans = answers.split(';')\n",
        "\n",
        "\n",
        "def LoadPredictor():\n",
        "    global predictor\n",
        "    print (\"Loading Predictor...\")\n",
        "    predictor = Predictor.from_path(\"https://s3-us-west-2.amazonaws.com/allennlp/models/bidaf-model-2017.09.15-charpad.tar.gz\")\n",
        "\n",
        "def ProcessInputAndAnswerQuestions():\n",
        "   global lqns\n",
        "   global predictor\n",
        "   global inputText\n",
        "\n",
        "   print (\"Processing to answer questions...\")\n",
        "   qcnt = 1\n",
        "   for qn in lqns:\n",
        "    if (len(qn.strip()) != 0):\n",
        "       print ('========')\n",
        "       print (\"{}. {}\".format(qcnt,  qn + '?'))\n",
        "       print('.........')\n",
        "       result = predictor.predict(\n",
        "                 passage=inputText,\n",
        "                 question=qn\n",
        "       )\n",
        "       bestans = result['best_span_str']\n",
        "       #print (bestans)\n",
        "       lbestans = get_close_matches(bestans, lans)       \n",
        "       if (len(lbestans) > 0):\n",
        "           print (\"Ans: {}\".format(lbestans[0]))\n",
        "       else:\n",
        "           print (\"Error: {}\".format(\"Either Invalid question OR No appropriate answer provided!!\"))\n",
        "       qcnt += 1\n",
        "\n",
        "\n",
        "#if (len(sys.argv) < 2):\n",
        "#   print (\"Usage : python sahajProj.py <Sample input file name>\")\n",
        "#   sys.exit(1)\n",
        "\n",
        "#print (\"Input file : \", sys.argv[1] )\n",
        "\n",
        "#filepath = sys.argv[1]\n",
        "filepath = \"/tmp/sample1\"\n",
        "inputText = \"\"\n",
        "questions = \"\"\n",
        "answers = \"\"\n",
        "\n",
        "ReadInputFromFile(filepath)\n",
        "LoadPredictor()\n",
        "ProcessInputAndAnswerQuestions()\n",
        "\n",
        "\n",
        "\n"
      ],
      "execution_count": 0,
      "outputs": []
    }
  ]
}